{
 "cells": [
  {
   "cell_type": "markdown",
   "metadata": {},
   "source": [
    "# Importar librerias"
   ]
  },
  {
   "cell_type": "code",
   "execution_count": 6,
   "metadata": {},
   "outputs": [],
   "source": [
    "import cv2\n",
    "import wandb\n",
    "from ultralytics import YOLO"
   ]
  },
  {
   "cell_type": "markdown",
   "metadata": {},
   "source": [
    "# Cargamos el modelo"
   ]
  },
  {
   "cell_type": "code",
   "execution_count": 7,
   "metadata": {},
   "outputs": [],
   "source": [
    "model = YOLO('runs/detect/train7/weights/best.pt')"
   ]
  },
  {
   "cell_type": "markdown",
   "metadata": {},
   "source": [
    "# Función para predecir sobre video"
   ]
  },
  {
   "cell_type": "code",
   "execution_count": 10,
   "metadata": {},
   "outputs": [],
   "source": [
    "def predict_and_export_video(model, input_video_path, output_video_path):\n",
    "    # Cargar el video de entrada\n",
    "    cap = cv2.VideoCapture(input_video_path)\n",
    "    \n",
    "    # Obtener propiedades del video\n",
    "    width = int(cap.get(cv2.CAP_PROP_FRAME_WIDTH))\n",
    "    height = int(cap.get(cv2.CAP_PROP_FRAME_HEIGHT))\n",
    "    fps = int(cap.get(cv2.CAP_PROP_FPS))\n",
    "    \n",
    "    # Configurar el escritor de video\n",
    "    fourcc = cv2.VideoWriter_fourcc(*'mp4v')  # Codec para el formato .mp4\n",
    "    out = cv2.VideoWriter(output_video_path, fourcc, fps, (width, height))\n",
    "    \n",
    "    while cap.isOpened():\n",
    "        ret, frame = cap.read()\n",
    "        if not ret:\n",
    "            break\n",
    "        \n",
    "        # Realizar la predicción\n",
    "        results = model(frame)\n",
    "        \n",
    "        # Dibujar las predicciones en el frame\n",
    "        for result in results:\n",
    "            boxes = result.boxes  # Lista de bounding boxes detectadas\n",
    "            for box in boxes:\n",
    "                # Obtener las coordenadas de la caja y la clase detectada\n",
    "                x1, y1, x2, y2 = map(int, box.xyxy[0])  # Coordenadas de la caja\n",
    "                class_id = int(box.cls[0])  # ID de la clase predicha\n",
    "                score = box.conf[0]  # Confianza de la predicción\n",
    "                \n",
    "                # Dibujar la caja en el frame\n",
    "                cv2.rectangle(frame, (x1, y1), (x2, y2), (0, 255, 0), 2)\n",
    "                label = f\"{model.names[class_id]}: {score:.2f}\"\n",
    "                cv2.putText(frame, label, (x1, y1 - 10), cv2.FONT_HERSHEY_SIMPLEX, 0.5, (0, 255, 0), 2)\n",
    "        \n",
    "        # Escribir el frame procesado en el video de salida\n",
    "        out.write(frame)\n",
    "    \n",
    "    # Liberar los recursos\n",
    "    cap.release()\n",
    "    out.release()\n",
    "    print(f\"Video exportado exitosamente como {output_video_path}\")"
   ]
  },
  {
   "cell_type": "code",
   "execution_count": null,
   "metadata": {},
   "outputs": [],
   "source": [
    "predict_and_export_video(model, 'senales2.mp4', 'output.mp4')"
   ]
  },
  {
   "cell_type": "markdown",
   "metadata": {},
   "source": [
    "# Función par detectar en tiempo real"
   ]
  },
  {
   "cell_type": "code",
   "execution_count": null,
   "metadata": {},
   "outputs": [],
   "source": [
    "def real_time_prediction(model):\n",
    "    # Iniciar la captura de video desde la cámara web (0 indica la cámara por defecto)\n",
    "    cap = cv2.VideoCapture(0)\n",
    "\n",
    "    while cap.isOpened():\n",
    "        ret, frame = cap.read()\n",
    "        if not ret:\n",
    "            print(\"No se pudo capturar el frame de la cámara.\")\n",
    "            break\n",
    "        \n",
    "        # Realizar la predicción en el frame capturado\n",
    "        results = model(frame)\n",
    "        \n",
    "        # Dibujar las predicciones en el frame\n",
    "        for result in results:\n",
    "            boxes = result.boxes  # Lista de bounding boxes detectadas\n",
    "            for box in boxes:\n",
    "                # Obtener las coordenadas de la caja y la clase detectada\n",
    "                x1, y1, x2, y2 = map(int, box.xyxy[0])  # Coordenadas de la caja\n",
    "                class_id = int(box.cls[0])  # ID de la clase predicha\n",
    "                score = box.conf[0]  # Confianza de la predicción\n",
    "                \n",
    "                # Dibujar la caja en el frame\n",
    "                cv2.rectangle(frame, (x1, y1), (x2, y2), (0, 255, 0), 2)\n",
    "                label = f\"{model.names[class_id]}: {score:.2f}\"\n",
    "                cv2.putText(frame, label, (x1, y1 - 10), cv2.FONT_HERSHEY_SIMPLEX, 0.5, (0, 255, 0), 2)\n",
    "        \n",
    "        # Mostrar el frame en una ventana de tiempo real\n",
    "        cv2.imshow('YOLO Real-Time Detection', frame)\n",
    "        \n",
    "        # Salir con la tecla 'q'\n",
    "        if cv2.waitKey(1) & 0xFF == ord('q'):\n",
    "            break\n",
    "    \n",
    "    # Liberar recursos\n",
    "    cap.release()\n",
    "    cv2.destroyAllWindows()"
   ]
  }
 ],
 "metadata": {
  "kernelspec": {
   "display_name": "Python 3",
   "language": "python",
   "name": "python3"
  },
  "language_info": {
   "codemirror_mode": {
    "name": "ipython",
    "version": 3
   },
   "file_extension": ".py",
   "mimetype": "text/x-python",
   "name": "python",
   "nbconvert_exporter": "python",
   "pygments_lexer": "ipython3",
   "version": "3.11.3"
  }
 },
 "nbformat": 4,
 "nbformat_minor": 2
}
